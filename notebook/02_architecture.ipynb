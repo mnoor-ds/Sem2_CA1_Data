{
 "cells": [
  {
   "cell_type": "markdown",
   "id": "e3511de6",
   "metadata": {},
   "source": [
    "# 1. AlexNet"
   ]
  },
  {
   "cell_type": "code",
   "execution_count": null,
   "id": "abefc922",
   "metadata": {},
   "outputs": [],
   "source": []
  }
 ],
 "metadata": {
  "kernelspec": {
   "display_name": "conda-base",
   "language": "python",
   "name": "conda-base"
  },
  "language_info": {
   "codemirror_mode": {
    "name": "ipython",
    "version": 3
   },
   "file_extension": ".py",
   "mimetype": "text/x-python",
   "name": "python",
   "nbconvert_exporter": "python",
   "pygments_lexer": "ipython3",
   "version": "3.8.13"
  }
 },
 "nbformat": 4,
 "nbformat_minor": 5
}
