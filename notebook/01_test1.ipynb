{
 "cells": [
  {
   "cell_type": "markdown",
   "id": "5bf3f546",
   "metadata": {},
   "source": [
    "# Test 1\n",
    "\n",
    "The Massively Multilingual Image Dataset (MMID)\n",
    "\n",
    "Dataset page: https://aws.amazon.com/marketplace/pp/prodview-f25bmlrgfo7bu?sr=0-69&ref_=beagle&applicationId=AWSMPContessa#overview\n",
    "\n",
    "MMID is a large-scale, massively multilingual dataset of images paired with the words they represent collected at the University of Pennsylvania . The dataset is doubly parallel: for each language, words are stored parallel to images that represent the word, and parallel to the word's translation into English (and corresponding images.)\n",
    "\n",
    "License: See citation instructions at http://multilingual-images.org \n",
    "\n",
    "Documentation: https://multilingual-images.org/doc.html \n",
    "\n",
    "How to cite: The Massively Multilingual Image Dataset (MMID) was accessed on DATE from https://registry.opendata.aws/mmid .\n",
    "\n",
    "Description\n",
    "Images for words in various languages, packaged by in .tar archives by each language.\n",
    "\n",
    "Resource type: S3 Bucket\n",
    "Amazon Resource Name (ARN): `arn:aws:s3:::mmid-pds`\n",
    "\n",
    "AWS Region: `us-east-1`\n",
    "AWS CLI Access (No AWS account required): `aws s3 ls --no-sign-request s3://mmid-pds/`"
   ]
  },
  {
   "cell_type": "code",
   "execution_count": null,
   "id": "ccf72fcc",
   "metadata": {},
   "outputs": [],
   "source": []
  }
 ],
 "metadata": {
  "kernelspec": {
   "display_name": "conda-base",
   "language": "python",
   "name": "conda-base"
  },
  "language_info": {
   "codemirror_mode": {
    "name": "ipython",
    "version": 3
   },
   "file_extension": ".py",
   "mimetype": "text/x-python",
   "name": "python",
   "nbconvert_exporter": "python",
   "pygments_lexer": "ipython3",
   "version": "3.8.13"
  }
 },
 "nbformat": 4,
 "nbformat_minor": 5
}
